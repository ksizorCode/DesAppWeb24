{
  "nbformat": 4,
  "nbformat_minor": 0,
  "metadata": {
    "colab": {
      "provenance": [],
      "authorship_tag": "ABX9TyPrnHDDcFeghvIinS/jVRmQ",
      "include_colab_link": true
    },
    "kernelspec": {
      "name": "python3",
      "display_name": "Python 3"
    },
    "language_info": {
      "name": "python"
    }
  },
  "cells": [
    {
      "cell_type": "markdown",
      "metadata": {
        "id": "view-in-github",
        "colab_type": "text"
      },
      "source": [
        "<a href=\"https://colab.research.google.com/github/ksizorCode/DesAppWeb24/blob/main/miPhyton001.ipynb\" target=\"_parent\"><img src=\"https://colab.research.google.com/assets/colab-badge.svg\" alt=\"Open In Colab\"/></a>"
      ]
    },
    {
      "cell_type": "code",
      "source": [
        "# Importar\n",
        "from datetime import datetime\n",
        "\n",
        "# Variables\n",
        "nombre = \"Pepito\"\n",
        "apellido = \"García\"\n",
        "nacimiento = 1989\n",
        "\n",
        "# Obtener el año actual (previa importación de datetime)\n",
        "año_actual = datetime.now().year\n",
        "\n",
        "# Calcular la edad\n",
        "edad = año_actual - nacimiento\n",
        "\n",
        "# Crear el texto\n",
        "texto = \"Tu nombre es {} {} y tienes {} años.\".format(nombre, apellido, edad)\n",
        "\n",
        "# Imprimir el resultado\n",
        "print(texto)\n"
      ],
      "metadata": {
        "colab": {
          "base_uri": "https://localhost:8080/"
        },
        "id": "niq1-QSVQjG0",
        "outputId": "1cee63de-0cee-4490-b82b-e62ea994aa19"
      },
      "execution_count": 12,
      "outputs": [
        {
          "output_type": "stream",
          "name": "stdout",
          "text": [
            "Tu nombre es Pepito García y tienes 35 años.\n"
          ]
        }
      ]
    }
  ]
}