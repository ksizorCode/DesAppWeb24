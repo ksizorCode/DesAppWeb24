{
  "nbformat": 4,
  "nbformat_minor": 0,
  "metadata": {
    "colab": {
      "provenance": [],
      "authorship_tag": "ABX9TyNI7PNByy8dtBESMP2eRxxw",
      "include_colab_link": true
    },
    "kernelspec": {
      "name": "python3",
      "display_name": "Python 3"
    },
    "language_info": {
      "name": "python"
    }
  },
  "cells": [
    {
      "cell_type": "markdown",
      "metadata": {
        "id": "view-in-github",
        "colab_type": "text"
      },
      "source": [
        "<a href=\"https://colab.research.google.com/github/ksizorCode/DesAppWeb24/blob/main/miPhyton001.ipynb\" target=\"_parent\"><img src=\"https://colab.research.google.com/assets/colab-badge.svg\" alt=\"Open In Colab\"/></a>"
      ]
    },
    {
      "cell_type": "code",
      "source": [
        "# Importar\n",
        "from datetime import datetime\n",
        "\n",
        "# Variables\n",
        "nombre = \"Pepito\"\n",
        "apellido = \"García\"\n",
        "nacimiento = 1989\n",
        "\n",
        "# Obtener el año actual (previa importación de datetime)\n",
        "año_actual = datetime.now().year\n",
        "\n",
        "# Calcular la edad\n",
        "edad = año_actual - nacimiento\n",
        "\n",
        "# Crear el texto\n",
        "texto = \"Tu nombre es {} {} y tienes {} años.\".format(nombre, apellido, edad)\n",
        "\n",
        "# Imprimir el resultado\n",
        "print(texto)\n",
        "print(\"---\")\n",
        "\n",
        "\n",
        "\n",
        "\n",
        "# Array multidimensional con información de películas\n",
        "peliculas = [\n",
        "    {\"titulo\": \"Titanic\", \"año\": 1997, \"director\": \"James Cameron\"},\n",
        "    {\"titulo\": \"El Padrino\", \"año\": 1972, \"director\": \"Francis Ford Coppola\"},\n",
        "    {\"titulo\": \"Inception\", \"año\": 2010, \"director\": \"Christopher Nolan\"},\n",
        "    # Agrega más películas según sea necesario\n",
        "]\n",
        "\n",
        "# Función para imprimir información de películas\n",
        "def imprimir_info_peliculas(lista_peliculas):\n",
        "    for pelicula in lista_peliculas:\n",
        "        print(f\"Título: {pelicula['titulo']}\")\n",
        "        print(f\"Año: {pelicula['año']}\")\n",
        "        print(f\"Director: {pelicula['director']}\")\n",
        "        print(\"\\n\")  # Línea en blanco entre cada película\n",
        "\n",
        "# Llamar a la función para imprimir la información de las películas\n",
        "imprimir_info_peliculas(peliculas)\n",
        "\n"
      ],
      "metadata": {
        "colab": {
          "base_uri": "https://localhost:8080/"
        },
        "id": "niq1-QSVQjG0",
        "outputId": "b06c65d1-4f50-409a-f8a3-29f7d660dd31"
      },
      "execution_count": 13,
      "outputs": [
        {
          "output_type": "stream",
          "name": "stdout",
          "text": [
            "Tu nombre es Pepito García y tienes 35 años.\n",
            "---\n",
            "Título: Titanic\n",
            "Año: 1997\n",
            "Director: James Cameron\n",
            "\n",
            "\n",
            "Título: El Padrino\n",
            "Año: 1972\n",
            "Director: Francis Ford Coppola\n",
            "\n",
            "\n",
            "Título: Inception\n",
            "Año: 2010\n",
            "Director: Christopher Nolan\n",
            "\n",
            "\n"
          ]
        }
      ]
    }
  ]
}